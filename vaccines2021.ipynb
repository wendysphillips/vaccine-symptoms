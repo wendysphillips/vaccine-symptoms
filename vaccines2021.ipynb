{
 "cells": [
  {
   "cell_type": "code",
   "execution_count": 1,
   "id": "70780c0d-4331-42db-8965-a569ed84f12c",
   "metadata": {},
   "outputs": [],
   "source": [
    "import pandas as pd\n",
    "import numpy as np\n",
    "import datetime as dt"
   ]
  },
  {
   "cell_type": "markdown",
   "id": "0ad2ccaf-47c3-4dee-9dc1-fcc3a67cc1a8",
   "metadata": {},
   "source": [
    "### Import data\n",
    "The data set is comprised of three separate tables with information focused on different things.  \n",
    "\n",
    "- VAERSVAX has info about the vaccine given\n",
    "- VAERSSYMPTOMS has info about the symptoms experienced\n",
    "- VARSDATA has info about the receiver of the vaccine"
   ]
  },
  {
   "cell_type": "code",
   "execution_count": 2,
   "id": "34b27413-97aa-43f3-8c7c-2e4a7e5732f9",
   "metadata": {},
   "outputs": [],
   "source": [
    "v2021_vax = pd.read_csv(\"~/Documents/Computing/data/vaccines/symptoms/2021VAERSVAX.csv\", encoding='iso-8859-1',index_col=False, delimiter = ',')"
   ]
  },
  {
   "cell_type": "code",
   "execution_count": 3,
   "id": "1d6c50d5-5a4d-494d-af19-4b5b45c56641",
   "metadata": {},
   "outputs": [
    {
     "data": {
      "text/plain": [
       "Index(['VAERS_ID', 'VAX_TYPE', 'VAX_MANU', 'VAX_LOT', 'VAX_DOSE_SERIES',\n",
       "       'VAX_ROUTE', 'VAX_SITE', 'VAX_NAME'],\n",
       "      dtype='object')"
      ]
     },
     "execution_count": 3,
     "metadata": {},
     "output_type": "execute_result"
    }
   ],
   "source": [
    "v2021_vax.columns"
   ]
  },
  {
   "cell_type": "code",
   "execution_count": 4,
   "id": "293bc962-469c-4178-8557-9bab8bf700af",
   "metadata": {},
   "outputs": [
    {
     "data": {
      "text/plain": [
       "(788354, 8)"
      ]
     },
     "execution_count": 4,
     "metadata": {},
     "output_type": "execute_result"
    }
   ],
   "source": [
    "v2021_vax.shape"
   ]
  },
  {
   "cell_type": "code",
   "execution_count": 5,
   "id": "68030c8f-10b9-4f78-b01b-b3d2bdc9816e",
   "metadata": {},
   "outputs": [
    {
     "data": {
      "text/plain": [
       "VAERS_ID            int64\n",
       "VAX_TYPE           object\n",
       "VAX_MANU           object\n",
       "VAX_LOT            object\n",
       "VAX_DOSE_SERIES    object\n",
       "VAX_ROUTE          object\n",
       "VAX_SITE           object\n",
       "VAX_NAME           object\n",
       "dtype: object"
      ]
     },
     "execution_count": 5,
     "metadata": {},
     "output_type": "execute_result"
    }
   ],
   "source": [
    "v2021_vax.dtypes"
   ]
  },
  {
   "cell_type": "code",
   "execution_count": 6,
   "id": "9e89ed80-fd75-4591-9743-c87857b1ca50",
   "metadata": {},
   "outputs": [],
   "source": [
    "v2021_vax['VAERS_ID'] = v2021_vax['VAERS_ID'].astype('str')"
   ]
  },
  {
   "cell_type": "code",
   "execution_count": 7,
   "id": "643a72f7-778c-4771-bab1-705439dba980",
   "metadata": {},
   "outputs": [
    {
     "data": {
      "text/html": [
       "<div>\n",
       "<style scoped>\n",
       "    .dataframe tbody tr th:only-of-type {\n",
       "        vertical-align: middle;\n",
       "    }\n",
       "\n",
       "    .dataframe tbody tr th {\n",
       "        vertical-align: top;\n",
       "    }\n",
       "\n",
       "    .dataframe thead th {\n",
       "        text-align: right;\n",
       "    }\n",
       "</style>\n",
       "<table border=\"1\" class=\"dataframe\">\n",
       "  <thead>\n",
       "    <tr style=\"text-align: right;\">\n",
       "      <th></th>\n",
       "      <th>VAERS_ID</th>\n",
       "      <th>VAX_TYPE</th>\n",
       "      <th>VAX_MANU</th>\n",
       "      <th>VAX_LOT</th>\n",
       "      <th>VAX_DOSE_SERIES</th>\n",
       "      <th>VAX_ROUTE</th>\n",
       "      <th>VAX_SITE</th>\n",
       "      <th>VAX_NAME</th>\n",
       "    </tr>\n",
       "  </thead>\n",
       "  <tbody>\n",
       "    <tr>\n",
       "      <th>0</th>\n",
       "      <td>910642</td>\n",
       "      <td>COVID19</td>\n",
       "      <td>PFIZER\\BIONTECH</td>\n",
       "      <td>EJ1685</td>\n",
       "      <td>1</td>\n",
       "      <td>NaN</td>\n",
       "      <td>LA</td>\n",
       "      <td>COVID19 (COVID19 (PFIZER-BIONTECH))</td>\n",
       "    </tr>\n",
       "    <tr>\n",
       "      <th>1</th>\n",
       "      <td>916600</td>\n",
       "      <td>COVID19</td>\n",
       "      <td>MODERNA</td>\n",
       "      <td>037K20A</td>\n",
       "      <td>1</td>\n",
       "      <td>IM</td>\n",
       "      <td>LA</td>\n",
       "      <td>COVID19 (COVID19 (MODERNA))</td>\n",
       "    </tr>\n",
       "    <tr>\n",
       "      <th>2</th>\n",
       "      <td>916601</td>\n",
       "      <td>COVID19</td>\n",
       "      <td>MODERNA</td>\n",
       "      <td>025L20A</td>\n",
       "      <td>1</td>\n",
       "      <td>IM</td>\n",
       "      <td>RA</td>\n",
       "      <td>COVID19 (COVID19 (MODERNA))</td>\n",
       "    </tr>\n",
       "    <tr>\n",
       "      <th>3</th>\n",
       "      <td>916602</td>\n",
       "      <td>COVID19</td>\n",
       "      <td>PFIZER\\BIONTECH</td>\n",
       "      <td>EL1284</td>\n",
       "      <td>1</td>\n",
       "      <td>IM</td>\n",
       "      <td>LA</td>\n",
       "      <td>COVID19 (COVID19 (PFIZER-BIONTECH))</td>\n",
       "    </tr>\n",
       "    <tr>\n",
       "      <th>4</th>\n",
       "      <td>916603</td>\n",
       "      <td>COVID19</td>\n",
       "      <td>MODERNA</td>\n",
       "      <td>unknown</td>\n",
       "      <td>UNK</td>\n",
       "      <td>NaN</td>\n",
       "      <td>NaN</td>\n",
       "      <td>COVID19 (COVID19 (MODERNA))</td>\n",
       "    </tr>\n",
       "  </tbody>\n",
       "</table>\n",
       "</div>"
      ],
      "text/plain": [
       "  VAERS_ID VAX_TYPE         VAX_MANU  VAX_LOT VAX_DOSE_SERIES VAX_ROUTE  \\\n",
       "0   910642  COVID19  PFIZER\\BIONTECH   EJ1685               1       NaN   \n",
       "1   916600  COVID19          MODERNA  037K20A               1        IM   \n",
       "2   916601  COVID19          MODERNA  025L20A               1        IM   \n",
       "3   916602  COVID19  PFIZER\\BIONTECH   EL1284               1        IM   \n",
       "4   916603  COVID19          MODERNA  unknown             UNK       NaN   \n",
       "\n",
       "  VAX_SITE                             VAX_NAME  \n",
       "0       LA  COVID19 (COVID19 (PFIZER-BIONTECH))  \n",
       "1       LA          COVID19 (COVID19 (MODERNA))  \n",
       "2       RA          COVID19 (COVID19 (MODERNA))  \n",
       "3       LA  COVID19 (COVID19 (PFIZER-BIONTECH))  \n",
       "4      NaN          COVID19 (COVID19 (MODERNA))  "
      ]
     },
     "execution_count": 7,
     "metadata": {},
     "output_type": "execute_result"
    }
   ],
   "source": [
    "v2021_vax.head()"
   ]
  },
  {
   "cell_type": "markdown",
   "id": "a42b1c6f-2991-447a-9439-254ec5724528",
   "metadata": {},
   "source": [
    "Import symptoms file"
   ]
  },
  {
   "cell_type": "code",
   "execution_count": 8,
   "id": "29faad70-dd01-4f20-b12e-e14ee5f629a4",
   "metadata": {},
   "outputs": [],
   "source": [
    "v2021_sym = pd.read_csv(\"~/Documents/Computing/data/vaccines/symptoms/2021VAERSSYMPTOMS.csv\", encoding='iso-8859-1',index_col=False, delimiter = ',')"
   ]
  },
  {
   "cell_type": "code",
   "execution_count": 9,
   "id": "58922475-4f25-4f1c-8d46-a4e3a9b3676e",
   "metadata": {},
   "outputs": [
    {
     "data": {
      "text/plain": [
       "Index(['VAERS_ID', 'SYMPTOM1', 'SYMPTOMVERSION1', 'SYMPTOM2',\n",
       "       'SYMPTOMVERSION2', 'SYMPTOM3', 'SYMPTOMVERSION3', 'SYMPTOM4',\n",
       "       'SYMPTOMVERSION4', 'SYMPTOM5', 'SYMPTOMVERSION5'],\n",
       "      dtype='object')"
      ]
     },
     "execution_count": 9,
     "metadata": {},
     "output_type": "execute_result"
    }
   ],
   "source": [
    "v2021_sym.columns"
   ]
  },
  {
   "cell_type": "code",
   "execution_count": 10,
   "id": "dbd61337-4129-46a4-85cd-f0e9374c2f6f",
   "metadata": {},
   "outputs": [
    {
     "data": {
      "text/plain": [
       "(992553, 11)"
      ]
     },
     "execution_count": 10,
     "metadata": {},
     "output_type": "execute_result"
    }
   ],
   "source": [
    "v2021_sym.shape"
   ]
  },
  {
   "cell_type": "code",
   "execution_count": 11,
   "id": "6e28911a-bc76-4095-8321-15b8d3bb34c4",
   "metadata": {},
   "outputs": [
    {
     "data": {
      "text/plain": [
       "VAERS_ID             int64\n",
       "SYMPTOM1            object\n",
       "SYMPTOMVERSION1    float64\n",
       "SYMPTOM2            object\n",
       "SYMPTOMVERSION2    float64\n",
       "SYMPTOM3            object\n",
       "SYMPTOMVERSION3    float64\n",
       "SYMPTOM4            object\n",
       "SYMPTOMVERSION4    float64\n",
       "SYMPTOM5            object\n",
       "SYMPTOMVERSION5    float64\n",
       "dtype: object"
      ]
     },
     "execution_count": 11,
     "metadata": {},
     "output_type": "execute_result"
    }
   ],
   "source": [
    "v2021_sym.dtypes"
   ]
  },
  {
   "cell_type": "code",
   "execution_count": 12,
   "id": "24101a45-840a-499d-9267-7b1d2cdc5df7",
   "metadata": {},
   "outputs": [],
   "source": [
    "v2021_sym['VAERS_ID'] = v2021_sym['VAERS_ID'].astype('str')"
   ]
  },
  {
   "cell_type": "markdown",
   "id": "d4941e1b-2b98-4799-8262-7fc63af33744",
   "metadata": {},
   "source": [
    "Import receiver data file"
   ]
  },
  {
   "cell_type": "code",
   "execution_count": 57,
   "id": "d8ac8493-456b-409d-88e0-e337038530ad",
   "metadata": {},
   "outputs": [],
   "source": [
    "v2021_data = pd.read_csv(\"~/Documents/Computing/data/vaccines/symptoms/2021VAERSDATA.csv\", encoding='iso-8859-1',index_col=False, delimiter = ',',dtype = {'VAERS_ID':'str', 'RECVDATE':'str', 'STATE':'str', 'AGE_YRS':'float', 'CAGE_YR':'float', 'CAGE_MO':'float', 'SEX':'str',\n",
    "       'RPT_DATE':'str', 'SYMPTOM_TEXT':'str', 'DIED':'str', 'DATEDIED':'str', 'L_THREAT':'str', 'ER_VISIT':'str',\n",
    "       'HOSPITAL':'str', 'HOSPDAYS':'float', 'X_STAY':'str', 'DISABLE':'str', 'RECOVD':'str', 'VAX_DATE':'str',\n",
    "       'ONSET_DATE':'str', 'NUMDAYS':'float', 'LAB_DATA':'str', 'V_ADMINBY':'str', 'V_FUNDBY':'str',\n",
    "       'OTHER_MEDS':'str', 'CUR_ILL':'str', 'HISTORY':'str', 'PRIOR_VAX':'str', 'SPLTTYPE':'str',\n",
    "       'FORM_VERS':'str', 'TODAYS_DATE':'str', 'BIRTH_DEFECT':'str', 'OFC_VISIT':'str', 'ER_ED_VISIT':'str',\n",
    "       'ALLERGIES':'str'})"
   ]
  },
  {
   "cell_type": "code",
   "execution_count": 58,
   "id": "f2b29947-400a-4e6d-8976-e64faafe279c",
   "metadata": {},
   "outputs": [
    {
     "data": {
      "text/plain": [
       "Index(['VAERS_ID', 'RECVDATE', 'STATE', 'AGE_YRS', 'CAGE_YR', 'CAGE_MO', 'SEX',\n",
       "       'RPT_DATE', 'SYMPTOM_TEXT', 'DIED', 'DATEDIED', 'L_THREAT', 'ER_VISIT',\n",
       "       'HOSPITAL', 'HOSPDAYS', 'X_STAY', 'DISABLE', 'RECOVD', 'VAX_DATE',\n",
       "       'ONSET_DATE', 'NUMDAYS', 'LAB_DATA', 'V_ADMINBY', 'V_FUNDBY',\n",
       "       'OTHER_MEDS', 'CUR_ILL', 'HISTORY', 'PRIOR_VAX', 'SPLTTYPE',\n",
       "       'FORM_VERS', 'TODAYS_DATE', 'BIRTH_DEFECT', 'OFC_VISIT', 'ER_ED_VISIT',\n",
       "       'ALLERGIES'],\n",
       "      dtype='object')"
      ]
     },
     "execution_count": 58,
     "metadata": {},
     "output_type": "execute_result"
    }
   ],
   "source": [
    "v2021_data.columns"
   ]
  },
  {
   "cell_type": "code",
   "execution_count": 59,
   "id": "5adcee9d-1b55-4f48-a7ac-4cedf94abb82",
   "metadata": {},
   "outputs": [],
   "source": [
    "v2021_data[[\"RECVDATE\", 'RPT_DATE', 'DATEDIED','VAX_DATE','ONSET_DATE','TODAYS_DATE']] = v2021_data[[\"RECVDATE\", 'RPT_DATE', 'DATEDIED','VAX_DATE','ONSET_DATE','TODAYS_DATE']].apply(pd.to_datetime)"
   ]
  },
  {
   "cell_type": "code",
   "execution_count": 60,
   "id": "a516d3a6-11ec-41b4-b0fa-619741591f26",
   "metadata": {},
   "outputs": [
    {
     "data": {
      "text/plain": [
       "VAERS_ID                object\n",
       "RECVDATE        datetime64[ns]\n",
       "STATE                   object\n",
       "AGE_YRS                float64\n",
       "CAGE_YR                float64\n",
       "CAGE_MO                float64\n",
       "SEX                     object\n",
       "RPT_DATE        datetime64[ns]\n",
       "SYMPTOM_TEXT            object\n",
       "DIED                    object\n",
       "DATEDIED        datetime64[ns]\n",
       "L_THREAT                object\n",
       "ER_VISIT                object\n",
       "HOSPITAL                object\n",
       "HOSPDAYS               float64\n",
       "X_STAY                  object\n",
       "DISABLE                 object\n",
       "RECOVD                  object\n",
       "VAX_DATE        datetime64[ns]\n",
       "ONSET_DATE      datetime64[ns]\n",
       "NUMDAYS                float64\n",
       "LAB_DATA                object\n",
       "V_ADMINBY               object\n",
       "V_FUNDBY                object\n",
       "OTHER_MEDS              object\n",
       "CUR_ILL                 object\n",
       "HISTORY                 object\n",
       "PRIOR_VAX               object\n",
       "SPLTTYPE                object\n",
       "FORM_VERS               object\n",
       "TODAYS_DATE     datetime64[ns]\n",
       "BIRTH_DEFECT            object\n",
       "OFC_VISIT               object\n",
       "ER_ED_VISIT             object\n",
       "ALLERGIES               object\n",
       "dtype: object"
      ]
     },
     "execution_count": 60,
     "metadata": {},
     "output_type": "execute_result"
    }
   ],
   "source": [
    "v2021_data.dtypes"
   ]
  },
  {
   "cell_type": "code",
   "execution_count": 18,
   "id": "3fdce4e5-e9e4-4289-8b77-998288b7a505",
   "metadata": {},
   "outputs": [
    {
     "data": {
      "text/plain": [
       "(744294, 35)"
      ]
     },
     "execution_count": 18,
     "metadata": {},
     "output_type": "execute_result"
    }
   ],
   "source": [
    "v2021_data.shape"
   ]
  },
  {
   "cell_type": "code",
   "execution_count": 19,
   "id": "cf98f5e4-7bc9-4522-9873-c7ddfda1543d",
   "metadata": {},
   "outputs": [
    {
     "data": {
      "text/html": [
       "<div>\n",
       "<style scoped>\n",
       "    .dataframe tbody tr th:only-of-type {\n",
       "        vertical-align: middle;\n",
       "    }\n",
       "\n",
       "    .dataframe tbody tr th {\n",
       "        vertical-align: top;\n",
       "    }\n",
       "\n",
       "    .dataframe thead th {\n",
       "        text-align: right;\n",
       "    }\n",
       "</style>\n",
       "<table border=\"1\" class=\"dataframe\">\n",
       "  <thead>\n",
       "    <tr style=\"text-align: right;\">\n",
       "      <th></th>\n",
       "      <th>VAERS_ID</th>\n",
       "      <th>RECVDATE</th>\n",
       "      <th>STATE</th>\n",
       "      <th>AGE_YRS</th>\n",
       "      <th>CAGE_YR</th>\n",
       "      <th>CAGE_MO</th>\n",
       "      <th>SEX</th>\n",
       "      <th>RPT_DATE</th>\n",
       "      <th>SYMPTOM_TEXT</th>\n",
       "      <th>DIED</th>\n",
       "      <th>...</th>\n",
       "      <th>CUR_ILL</th>\n",
       "      <th>HISTORY</th>\n",
       "      <th>PRIOR_VAX</th>\n",
       "      <th>SPLTTYPE</th>\n",
       "      <th>FORM_VERS</th>\n",
       "      <th>TODAYS_DATE</th>\n",
       "      <th>BIRTH_DEFECT</th>\n",
       "      <th>OFC_VISIT</th>\n",
       "      <th>ER_ED_VISIT</th>\n",
       "      <th>ALLERGIES</th>\n",
       "    </tr>\n",
       "  </thead>\n",
       "  <tbody>\n",
       "    <tr>\n",
       "      <th>0</th>\n",
       "      <td>0916600</td>\n",
       "      <td>2021-01-01</td>\n",
       "      <td>TX</td>\n",
       "      <td>33.0</td>\n",
       "      <td>33.0</td>\n",
       "      <td>NaN</td>\n",
       "      <td>F</td>\n",
       "      <td>NaT</td>\n",
       "      <td>Right side of epiglottis swelled up and hinder...</td>\n",
       "      <td>NaN</td>\n",
       "      <td>...</td>\n",
       "      <td>None</td>\n",
       "      <td>None</td>\n",
       "      <td>NaN</td>\n",
       "      <td>NaN</td>\n",
       "      <td>2</td>\n",
       "      <td>2021-01-01</td>\n",
       "      <td>NaN</td>\n",
       "      <td>Y</td>\n",
       "      <td>NaN</td>\n",
       "      <td>Pcn and bee venom</td>\n",
       "    </tr>\n",
       "    <tr>\n",
       "      <th>1</th>\n",
       "      <td>0916601</td>\n",
       "      <td>2021-01-01</td>\n",
       "      <td>CA</td>\n",
       "      <td>73.0</td>\n",
       "      <td>73.0</td>\n",
       "      <td>NaN</td>\n",
       "      <td>F</td>\n",
       "      <td>NaT</td>\n",
       "      <td>Approximately 30 min post vaccination administ...</td>\n",
       "      <td>NaN</td>\n",
       "      <td>...</td>\n",
       "      <td>Patient residing at nursing facility. See pati...</td>\n",
       "      <td>Patient residing at nursing facility. See pati...</td>\n",
       "      <td>NaN</td>\n",
       "      <td>NaN</td>\n",
       "      <td>2</td>\n",
       "      <td>2021-01-01</td>\n",
       "      <td>NaN</td>\n",
       "      <td>Y</td>\n",
       "      <td>NaN</td>\n",
       "      <td>\"Dairy\"</td>\n",
       "    </tr>\n",
       "    <tr>\n",
       "      <th>2</th>\n",
       "      <td>0916602</td>\n",
       "      <td>2021-01-01</td>\n",
       "      <td>WA</td>\n",
       "      <td>23.0</td>\n",
       "      <td>23.0</td>\n",
       "      <td>NaN</td>\n",
       "      <td>F</td>\n",
       "      <td>NaT</td>\n",
       "      <td>About 15 minutes after receiving the vaccine, ...</td>\n",
       "      <td>NaN</td>\n",
       "      <td>...</td>\n",
       "      <td>None</td>\n",
       "      <td>None</td>\n",
       "      <td>NaN</td>\n",
       "      <td>NaN</td>\n",
       "      <td>2</td>\n",
       "      <td>2021-01-01</td>\n",
       "      <td>NaN</td>\n",
       "      <td>NaN</td>\n",
       "      <td>Y</td>\n",
       "      <td>Shellfish</td>\n",
       "    </tr>\n",
       "    <tr>\n",
       "      <th>3</th>\n",
       "      <td>0916603</td>\n",
       "      <td>2021-01-01</td>\n",
       "      <td>WA</td>\n",
       "      <td>58.0</td>\n",
       "      <td>58.0</td>\n",
       "      <td>NaN</td>\n",
       "      <td>F</td>\n",
       "      <td>NaT</td>\n",
       "      <td>extreme fatigue, dizziness,. could not lift my...</td>\n",
       "      <td>NaN</td>\n",
       "      <td>...</td>\n",
       "      <td>kidney infection</td>\n",
       "      <td>diverticulitis, mitral valve prolapse, osteoar...</td>\n",
       "      <td>got measles from measel shot, mums from mumps ...</td>\n",
       "      <td>NaN</td>\n",
       "      <td>2</td>\n",
       "      <td>2021-01-01</td>\n",
       "      <td>NaN</td>\n",
       "      <td>NaN</td>\n",
       "      <td>NaN</td>\n",
       "      <td>Diclofenac, novacaine, lidocaine, pickles, tom...</td>\n",
       "    </tr>\n",
       "    <tr>\n",
       "      <th>4</th>\n",
       "      <td>0916604</td>\n",
       "      <td>2021-01-01</td>\n",
       "      <td>TX</td>\n",
       "      <td>47.0</td>\n",
       "      <td>47.0</td>\n",
       "      <td>NaN</td>\n",
       "      <td>F</td>\n",
       "      <td>NaT</td>\n",
       "      <td>Injection site swelling, redness, warm to the ...</td>\n",
       "      <td>NaN</td>\n",
       "      <td>...</td>\n",
       "      <td>Na</td>\n",
       "      <td>NaN</td>\n",
       "      <td>NaN</td>\n",
       "      <td>NaN</td>\n",
       "      <td>2</td>\n",
       "      <td>2021-01-01</td>\n",
       "      <td>NaN</td>\n",
       "      <td>NaN</td>\n",
       "      <td>NaN</td>\n",
       "      <td>Na</td>\n",
       "    </tr>\n",
       "  </tbody>\n",
       "</table>\n",
       "<p>5 rows × 35 columns</p>\n",
       "</div>"
      ],
      "text/plain": [
       "  VAERS_ID   RECVDATE STATE  AGE_YRS  CAGE_YR  CAGE_MO SEX RPT_DATE  \\\n",
       "0  0916600 2021-01-01    TX     33.0     33.0      NaN   F      NaT   \n",
       "1  0916601 2021-01-01    CA     73.0     73.0      NaN   F      NaT   \n",
       "2  0916602 2021-01-01    WA     23.0     23.0      NaN   F      NaT   \n",
       "3  0916603 2021-01-01    WA     58.0     58.0      NaN   F      NaT   \n",
       "4  0916604 2021-01-01    TX     47.0     47.0      NaN   F      NaT   \n",
       "\n",
       "                                        SYMPTOM_TEXT DIED  ...  \\\n",
       "0  Right side of epiglottis swelled up and hinder...  NaN  ...   \n",
       "1  Approximately 30 min post vaccination administ...  NaN  ...   \n",
       "2  About 15 minutes after receiving the vaccine, ...  NaN  ...   \n",
       "3  extreme fatigue, dizziness,. could not lift my...  NaN  ...   \n",
       "4  Injection site swelling, redness, warm to the ...  NaN  ...   \n",
       "\n",
       "                                             CUR_ILL  \\\n",
       "0                                               None   \n",
       "1  Patient residing at nursing facility. See pati...   \n",
       "2                                               None   \n",
       "3                                   kidney infection   \n",
       "4                                                 Na   \n",
       "\n",
       "                                             HISTORY  \\\n",
       "0                                               None   \n",
       "1  Patient residing at nursing facility. See pati...   \n",
       "2                                               None   \n",
       "3  diverticulitis, mitral valve prolapse, osteoar...   \n",
       "4                                                NaN   \n",
       "\n",
       "                                           PRIOR_VAX SPLTTYPE  FORM_VERS  \\\n",
       "0                                                NaN      NaN          2   \n",
       "1                                                NaN      NaN          2   \n",
       "2                                                NaN      NaN          2   \n",
       "3  got measles from measel shot, mums from mumps ...      NaN          2   \n",
       "4                                                NaN      NaN          2   \n",
       "\n",
       "  TODAYS_DATE BIRTH_DEFECT OFC_VISIT ER_ED_VISIT  \\\n",
       "0  2021-01-01          NaN         Y         NaN   \n",
       "1  2021-01-01          NaN         Y         NaN   \n",
       "2  2021-01-01          NaN       NaN           Y   \n",
       "3  2021-01-01          NaN       NaN         NaN   \n",
       "4  2021-01-01          NaN       NaN         NaN   \n",
       "\n",
       "                                           ALLERGIES  \n",
       "0                                  Pcn and bee venom  \n",
       "1                                            \"Dairy\"  \n",
       "2                                          Shellfish  \n",
       "3  Diclofenac, novacaine, lidocaine, pickles, tom...  \n",
       "4                                                 Na  \n",
       "\n",
       "[5 rows x 35 columns]"
      ]
     },
     "execution_count": 19,
     "metadata": {},
     "output_type": "execute_result"
    }
   ],
   "source": [
    "v2021_data.head()"
   ]
  },
  {
   "cell_type": "code",
   "execution_count": 20,
   "id": "7e2c698c-e0fb-48a3-9552-bd10b0a421e9",
   "metadata": {},
   "outputs": [
    {
     "data": {
      "text/html": [
       "<div>\n",
       "<style scoped>\n",
       "    .dataframe tbody tr th:only-of-type {\n",
       "        vertical-align: middle;\n",
       "    }\n",
       "\n",
       "    .dataframe tbody tr th {\n",
       "        vertical-align: top;\n",
       "    }\n",
       "\n",
       "    .dataframe thead th {\n",
       "        text-align: right;\n",
       "    }\n",
       "</style>\n",
       "<table border=\"1\" class=\"dataframe\">\n",
       "  <thead>\n",
       "    <tr style=\"text-align: right;\">\n",
       "      <th></th>\n",
       "      <th>RECVDATE</th>\n",
       "      <th>RPT_DATE</th>\n",
       "      <th>DATEDIED</th>\n",
       "      <th>VAX_DATE</th>\n",
       "      <th>ONSET_DATE</th>\n",
       "      <th>TODAYS_DATE</th>\n",
       "    </tr>\n",
       "  </thead>\n",
       "  <tbody>\n",
       "    <tr>\n",
       "      <th>0</th>\n",
       "      <td>2021-01-01</td>\n",
       "      <td>NaT</td>\n",
       "      <td>NaT</td>\n",
       "      <td>2020-12-28</td>\n",
       "      <td>2020-12-30</td>\n",
       "      <td>2021-01-01</td>\n",
       "    </tr>\n",
       "    <tr>\n",
       "      <th>1</th>\n",
       "      <td>2021-01-01</td>\n",
       "      <td>NaT</td>\n",
       "      <td>NaT</td>\n",
       "      <td>2020-12-31</td>\n",
       "      <td>2020-12-31</td>\n",
       "      <td>2021-01-01</td>\n",
       "    </tr>\n",
       "    <tr>\n",
       "      <th>2</th>\n",
       "      <td>2021-01-01</td>\n",
       "      <td>NaT</td>\n",
       "      <td>NaT</td>\n",
       "      <td>2020-12-31</td>\n",
       "      <td>2020-12-31</td>\n",
       "      <td>2021-01-01</td>\n",
       "    </tr>\n",
       "    <tr>\n",
       "      <th>3</th>\n",
       "      <td>2021-01-01</td>\n",
       "      <td>NaT</td>\n",
       "      <td>NaT</td>\n",
       "      <td>2020-12-23</td>\n",
       "      <td>2020-12-23</td>\n",
       "      <td>2021-01-01</td>\n",
       "    </tr>\n",
       "    <tr>\n",
       "      <th>4</th>\n",
       "      <td>2021-01-01</td>\n",
       "      <td>NaT</td>\n",
       "      <td>NaT</td>\n",
       "      <td>2020-12-22</td>\n",
       "      <td>2020-12-29</td>\n",
       "      <td>2021-01-01</td>\n",
       "    </tr>\n",
       "  </tbody>\n",
       "</table>\n",
       "</div>"
      ],
      "text/plain": [
       "    RECVDATE RPT_DATE DATEDIED   VAX_DATE ONSET_DATE TODAYS_DATE\n",
       "0 2021-01-01      NaT      NaT 2020-12-28 2020-12-30  2021-01-01\n",
       "1 2021-01-01      NaT      NaT 2020-12-31 2020-12-31  2021-01-01\n",
       "2 2021-01-01      NaT      NaT 2020-12-31 2020-12-31  2021-01-01\n",
       "3 2021-01-01      NaT      NaT 2020-12-23 2020-12-23  2021-01-01\n",
       "4 2021-01-01      NaT      NaT 2020-12-22 2020-12-29  2021-01-01"
      ]
     },
     "execution_count": 20,
     "metadata": {},
     "output_type": "execute_result"
    }
   ],
   "source": [
    "v2021_data[[\"RECVDATE\", 'RPT_DATE', 'DATEDIED','VAX_DATE','ONSET_DATE','TODAYS_DATE']].head()"
   ]
  },
  {
   "cell_type": "markdown",
   "id": "8fb16f1e-4218-4587-99c3-2322c3ba9bd9",
   "metadata": {},
   "source": [
    "First, subset to covid and non-covid vaccines"
   ]
  },
  {
   "cell_type": "code",
   "execution_count": 21,
   "id": "609300f1-1052-4682-b67c-67ce63227731",
   "metadata": {},
   "outputs": [],
   "source": [
    "v2021_vax_covid = v2021_vax[v2021_vax[\"VAX_TYPE\"] == \"COVID19\"]"
   ]
  },
  {
   "cell_type": "code",
   "execution_count": 22,
   "id": "e6534917-b807-4b54-80be-29fd342fd79f",
   "metadata": {},
   "outputs": [],
   "source": [
    "v2021_vax_noncovid = v2021_vax[v2021_vax[\"VAX_TYPE\"] != \"COVID19\"]"
   ]
  },
  {
   "cell_type": "markdown",
   "id": "c9cc2676-f140-4381-9184-4976b8fa484d",
   "metadata": {},
   "source": [
    "Are all VAERS_ID entries unique? "
   ]
  },
  {
   "cell_type": "code",
   "execution_count": 23,
   "id": "00dcf862-96f9-4c7d-9d52-e8e0bd847c71",
   "metadata": {},
   "outputs": [
    {
     "name": "stdout",
     "output_type": "stream",
     "text": [
      "(733281, 8)\n",
      "702039\n"
     ]
    }
   ],
   "source": [
    "print(v2021_vax_covid.shape)\n",
    "print(v2021_vax_covid.VAERS_ID.nunique())"
   ]
  },
  {
   "cell_type": "markdown",
   "id": "b8f457c8-68c6-4933-a903-b7f8772b88f4",
   "metadata": {},
   "source": [
    "The percent of vaccine symptom information reported in 2021 that was linked to a covid19 vaccine"
   ]
  },
  {
   "cell_type": "code",
   "execution_count": 24,
   "id": "9c2c4aa8-2ee7-4414-9094-e8ff9f171ec7",
   "metadata": {},
   "outputs": [
    {
     "data": {
      "text/plain": [
       "VAERS_ID    94.322808\n",
       "dtype: float64"
      ]
     },
     "execution_count": 24,
     "metadata": {},
     "output_type": "execute_result"
    }
   ],
   "source": [
    "(1-((v2021_vax[['VAERS_ID']].nunique() - v2021_vax_covid[['VAERS_ID']].nunique())/v2021_vax[['VAERS_ID']].nunique())) * 100"
   ]
  },
  {
   "cell_type": "markdown",
   "id": "e9c14631-76ea-451b-9fb7-7d24a18e97d2",
   "metadata": {},
   "source": [
    "Determine why there are sometimes more than one entry per VAERS_ID in vaccine info file"
   ]
  },
  {
   "cell_type": "markdown",
   "id": "b94b07f3-7432-41b2-9952-2224b31fbee8",
   "metadata": {},
   "source": [
    "Subset to rows with duplicate IDs"
   ]
  },
  {
   "cell_type": "code",
   "execution_count": 25,
   "id": "0d715ad8-8d14-459d-97c0-27d0cf9b9538",
   "metadata": {},
   "outputs": [
    {
     "data": {
      "text/plain": [
       "(60739, 8)"
      ]
     },
     "execution_count": 25,
     "metadata": {},
     "output_type": "execute_result"
    }
   ],
   "source": [
    "temp_dups = v2021_vax_covid[v2021_vax_covid.duplicated(subset=['VAERS_ID'], keep=False)]\n",
    "temp_dups.shape"
   ]
  },
  {
   "cell_type": "code",
   "execution_count": 26,
   "id": "0993d721-d3f8-43cb-8fb9-9568b759ccae",
   "metadata": {},
   "outputs": [
    {
     "data": {
      "text/html": [
       "<div>\n",
       "<style scoped>\n",
       "    .dataframe tbody tr th:only-of-type {\n",
       "        vertical-align: middle;\n",
       "    }\n",
       "\n",
       "    .dataframe tbody tr th {\n",
       "        vertical-align: top;\n",
       "    }\n",
       "\n",
       "    .dataframe thead th {\n",
       "        text-align: right;\n",
       "    }\n",
       "</style>\n",
       "<table border=\"1\" class=\"dataframe\">\n",
       "  <thead>\n",
       "    <tr style=\"text-align: right;\">\n",
       "      <th></th>\n",
       "      <th>VAERS_ID</th>\n",
       "      <th>VAX_TYPE</th>\n",
       "      <th>VAX_MANU</th>\n",
       "      <th>VAX_LOT</th>\n",
       "      <th>VAX_DOSE_SERIES</th>\n",
       "      <th>VAX_ROUTE</th>\n",
       "      <th>VAX_SITE</th>\n",
       "      <th>VAX_NAME</th>\n",
       "    </tr>\n",
       "  </thead>\n",
       "  <tbody>\n",
       "    <tr>\n",
       "      <th>75008</th>\n",
       "      <td>1000418</td>\n",
       "      <td>COVID19</td>\n",
       "      <td>PFIZER\\BIONTECH</td>\n",
       "      <td>EH9899</td>\n",
       "      <td>UNK</td>\n",
       "      <td>SC</td>\n",
       "      <td>LA</td>\n",
       "      <td>COVID19 (COVID19 (PFIZER-BIONTECH))</td>\n",
       "    </tr>\n",
       "    <tr>\n",
       "      <th>75009</th>\n",
       "      <td>1000418</td>\n",
       "      <td>COVID19</td>\n",
       "      <td>PFIZER\\BIONTECH</td>\n",
       "      <td>EK5730</td>\n",
       "      <td>UNK</td>\n",
       "      <td>SC</td>\n",
       "      <td>LA</td>\n",
       "      <td>COVID19 (COVID19 (PFIZER-BIONTECH))</td>\n",
       "    </tr>\n",
       "    <tr>\n",
       "      <th>75218</th>\n",
       "      <td>1000695</td>\n",
       "      <td>COVID19</td>\n",
       "      <td>PFIZER\\BIONTECH</td>\n",
       "      <td>EL3248</td>\n",
       "      <td>2</td>\n",
       "      <td>IM</td>\n",
       "      <td>NaN</td>\n",
       "      <td>COVID19 (COVID19 (PFIZER-BIONTECH))</td>\n",
       "    </tr>\n",
       "    <tr>\n",
       "      <th>75217</th>\n",
       "      <td>1000695</td>\n",
       "      <td>COVID19</td>\n",
       "      <td>PFIZER\\BIONTECH</td>\n",
       "      <td>EJ1685</td>\n",
       "      <td>1</td>\n",
       "      <td>IM</td>\n",
       "      <td>NaN</td>\n",
       "      <td>COVID19 (COVID19 (PFIZER-BIONTECH))</td>\n",
       "    </tr>\n",
       "    <tr>\n",
       "      <th>75252</th>\n",
       "      <td>1000729</td>\n",
       "      <td>COVID19</td>\n",
       "      <td>PFIZER\\BIONTECH</td>\n",
       "      <td>EL3249</td>\n",
       "      <td>2</td>\n",
       "      <td>SYR</td>\n",
       "      <td>NaN</td>\n",
       "      <td>COVID19 (COVID19 (PFIZER-BIONTECH))</td>\n",
       "    </tr>\n",
       "  </tbody>\n",
       "</table>\n",
       "</div>"
      ],
      "text/plain": [
       "      VAERS_ID VAX_TYPE         VAX_MANU VAX_LOT VAX_DOSE_SERIES VAX_ROUTE  \\\n",
       "75008  1000418  COVID19  PFIZER\\BIONTECH  EH9899             UNK        SC   \n",
       "75009  1000418  COVID19  PFIZER\\BIONTECH  EK5730             UNK        SC   \n",
       "75218  1000695  COVID19  PFIZER\\BIONTECH  EL3248               2        IM   \n",
       "75217  1000695  COVID19  PFIZER\\BIONTECH  EJ1685               1        IM   \n",
       "75252  1000729  COVID19  PFIZER\\BIONTECH  EL3249               2       SYR   \n",
       "\n",
       "      VAX_SITE                             VAX_NAME  \n",
       "75008       LA  COVID19 (COVID19 (PFIZER-BIONTECH))  \n",
       "75009       LA  COVID19 (COVID19 (PFIZER-BIONTECH))  \n",
       "75218      NaN  COVID19 (COVID19 (PFIZER-BIONTECH))  \n",
       "75217      NaN  COVID19 (COVID19 (PFIZER-BIONTECH))  \n",
       "75252      NaN  COVID19 (COVID19 (PFIZER-BIONTECH))  "
      ]
     },
     "execution_count": 26,
     "metadata": {},
     "output_type": "execute_result"
    }
   ],
   "source": [
    "temp_dups.sort_values('VAERS_ID').head()"
   ]
  },
  {
   "cell_type": "markdown",
   "id": "2d003b5b-94ba-460b-bc79-b771594b74ad",
   "metadata": {},
   "source": [
    "It looks like some rows are complete duplicates. Remove those and look at rows with duplicate IDs but differences elsewhere in row."
   ]
  },
  {
   "cell_type": "code",
   "execution_count": 27,
   "id": "11703656-d261-4ebb-b59e-6d0c0c6a2847",
   "metadata": {},
   "outputs": [
    {
     "data": {
      "text/html": [
       "<div>\n",
       "<style scoped>\n",
       "    .dataframe tbody tr th:only-of-type {\n",
       "        vertical-align: middle;\n",
       "    }\n",
       "\n",
       "    .dataframe tbody tr th {\n",
       "        vertical-align: top;\n",
       "    }\n",
       "\n",
       "    .dataframe thead th {\n",
       "        text-align: right;\n",
       "    }\n",
       "</style>\n",
       "<table border=\"1\" class=\"dataframe\">\n",
       "  <thead>\n",
       "    <tr style=\"text-align: right;\">\n",
       "      <th></th>\n",
       "      <th>VAERS_ID</th>\n",
       "      <th>VAX_TYPE</th>\n",
       "      <th>VAX_MANU</th>\n",
       "      <th>VAX_LOT</th>\n",
       "      <th>VAX_DOSE_SERIES</th>\n",
       "      <th>VAX_ROUTE</th>\n",
       "      <th>VAX_SITE</th>\n",
       "      <th>VAX_NAME</th>\n",
       "    </tr>\n",
       "  </thead>\n",
       "  <tbody>\n",
       "    <tr>\n",
       "      <th>469</th>\n",
       "      <td>917087</td>\n",
       "      <td>COVID19</td>\n",
       "      <td>PFIZER\\BIONTECH</td>\n",
       "      <td>NaN</td>\n",
       "      <td>1</td>\n",
       "      <td>IM</td>\n",
       "      <td>LA</td>\n",
       "      <td>COVID19 (COVID19 (PFIZER-BIONTECH))</td>\n",
       "    </tr>\n",
       "    <tr>\n",
       "      <th>470</th>\n",
       "      <td>917087</td>\n",
       "      <td>COVID19</td>\n",
       "      <td>PFIZER\\BIONTECH</td>\n",
       "      <td>NaN</td>\n",
       "      <td>UNK</td>\n",
       "      <td>IM</td>\n",
       "      <td>LA</td>\n",
       "      <td>COVID19 (COVID19 (PFIZER-BIONTECH))</td>\n",
       "    </tr>\n",
       "    <tr>\n",
       "      <th>5600</th>\n",
       "      <td>922571</td>\n",
       "      <td>COVID19</td>\n",
       "      <td>MODERNA</td>\n",
       "      <td>039K20A</td>\n",
       "      <td>2</td>\n",
       "      <td>ID</td>\n",
       "      <td>UN</td>\n",
       "      <td>COVID19 (COVID19 (MODERNA))</td>\n",
       "    </tr>\n",
       "    <tr>\n",
       "      <th>5601</th>\n",
       "      <td>922571</td>\n",
       "      <td>COVID19</td>\n",
       "      <td>PFIZER\\BIONTECH</td>\n",
       "      <td>EK5730</td>\n",
       "      <td>1</td>\n",
       "      <td>IM</td>\n",
       "      <td>UN</td>\n",
       "      <td>COVID19 (COVID19 (PFIZER-BIONTECH))</td>\n",
       "    </tr>\n",
       "    <tr>\n",
       "      <th>5657</th>\n",
       "      <td>922631</td>\n",
       "      <td>COVID19</td>\n",
       "      <td>PFIZER\\BIONTECH</td>\n",
       "      <td>EK5730</td>\n",
       "      <td>1</td>\n",
       "      <td>IM</td>\n",
       "      <td>NaN</td>\n",
       "      <td>COVID19 (COVID19 (PFIZER-BIONTECH))</td>\n",
       "    </tr>\n",
       "    <tr>\n",
       "      <th>5658</th>\n",
       "      <td>922631</td>\n",
       "      <td>COVID19</td>\n",
       "      <td>PFIZER\\BIONTECH</td>\n",
       "      <td>EL0142</td>\n",
       "      <td>2</td>\n",
       "      <td>IM</td>\n",
       "      <td>NaN</td>\n",
       "      <td>COVID19 (COVID19 (PFIZER-BIONTECH))</td>\n",
       "    </tr>\n",
       "    <tr>\n",
       "      <th>5755</th>\n",
       "      <td>922730</td>\n",
       "      <td>COVID19</td>\n",
       "      <td>MODERNA</td>\n",
       "      <td>025j20A</td>\n",
       "      <td>2</td>\n",
       "      <td>NaN</td>\n",
       "      <td>NaN</td>\n",
       "      <td>COVID19 (COVID19 (MODERNA))</td>\n",
       "    </tr>\n",
       "    <tr>\n",
       "      <th>5756</th>\n",
       "      <td>922730</td>\n",
       "      <td>COVID19</td>\n",
       "      <td>PFIZER\\BIONTECH</td>\n",
       "      <td>EH9899</td>\n",
       "      <td>1</td>\n",
       "      <td>IM</td>\n",
       "      <td>LA</td>\n",
       "      <td>COVID19 (COVID19 (PFIZER-BIONTECH))</td>\n",
       "    </tr>\n",
       "    <tr>\n",
       "      <th>5757</th>\n",
       "      <td>922731</td>\n",
       "      <td>COVID19</td>\n",
       "      <td>PFIZER\\BIONTECH</td>\n",
       "      <td>NaN</td>\n",
       "      <td>1</td>\n",
       "      <td>IM</td>\n",
       "      <td>NaN</td>\n",
       "      <td>COVID19 (COVID19 (PFIZER-BIONTECH))</td>\n",
       "    </tr>\n",
       "    <tr>\n",
       "      <th>5758</th>\n",
       "      <td>922731</td>\n",
       "      <td>COVID19</td>\n",
       "      <td>PFIZER\\BIONTECH</td>\n",
       "      <td>EK5730</td>\n",
       "      <td>1</td>\n",
       "      <td>IM</td>\n",
       "      <td>NaN</td>\n",
       "      <td>COVID19 (COVID19 (PFIZER-BIONTECH))</td>\n",
       "    </tr>\n",
       "  </tbody>\n",
       "</table>\n",
       "</div>"
      ],
      "text/plain": [
       "     VAERS_ID VAX_TYPE         VAX_MANU  VAX_LOT VAX_DOSE_SERIES VAX_ROUTE  \\\n",
       "469    917087  COVID19  PFIZER\\BIONTECH      NaN               1        IM   \n",
       "470    917087  COVID19  PFIZER\\BIONTECH      NaN             UNK        IM   \n",
       "5600   922571  COVID19          MODERNA  039K20A               2        ID   \n",
       "5601   922571  COVID19  PFIZER\\BIONTECH   EK5730               1        IM   \n",
       "5657   922631  COVID19  PFIZER\\BIONTECH   EK5730               1        IM   \n",
       "5658   922631  COVID19  PFIZER\\BIONTECH   EL0142               2        IM   \n",
       "5755   922730  COVID19          MODERNA  025j20A               2       NaN   \n",
       "5756   922730  COVID19  PFIZER\\BIONTECH   EH9899               1        IM   \n",
       "5757   922731  COVID19  PFIZER\\BIONTECH      NaN               1        IM   \n",
       "5758   922731  COVID19  PFIZER\\BIONTECH   EK5730               1        IM   \n",
       "\n",
       "     VAX_SITE                             VAX_NAME  \n",
       "469        LA  COVID19 (COVID19 (PFIZER-BIONTECH))  \n",
       "470        LA  COVID19 (COVID19 (PFIZER-BIONTECH))  \n",
       "5600       UN          COVID19 (COVID19 (MODERNA))  \n",
       "5601       UN  COVID19 (COVID19 (PFIZER-BIONTECH))  \n",
       "5657      NaN  COVID19 (COVID19 (PFIZER-BIONTECH))  \n",
       "5658      NaN  COVID19 (COVID19 (PFIZER-BIONTECH))  \n",
       "5755      NaN          COVID19 (COVID19 (MODERNA))  \n",
       "5756       LA  COVID19 (COVID19 (PFIZER-BIONTECH))  \n",
       "5757      NaN  COVID19 (COVID19 (PFIZER-BIONTECH))  \n",
       "5758      NaN  COVID19 (COVID19 (PFIZER-BIONTECH))  "
      ]
     },
     "execution_count": 27,
     "metadata": {},
     "output_type": "execute_result"
    }
   ],
   "source": [
    "conflicting_ids = temp_dups[(temp_dups.duplicated(keep = False)) == False]\n",
    "conflicting_ids.head(10)"
   ]
  },
  {
   "cell_type": "markdown",
   "id": "0bce3484-72d2-49e4-9c25-9a807bcc24fb",
   "metadata": {},
   "source": [
    "Determine how many VAERS_IDs have conflicting row entries in vax table"
   ]
  },
  {
   "cell_type": "code",
   "execution_count": 28,
   "id": "a5f59f2e-9069-4895-918a-4fd7fe6781b6",
   "metadata": {},
   "outputs": [
    {
     "name": "stdout",
     "output_type": "stream",
     "text": [
      "(57947, 8)\n",
      "28528\n"
     ]
    }
   ],
   "source": [
    "print(conflicting_ids.shape)\n",
    "print(conflicting_ids['VAERS_ID'].nunique())"
   ]
  },
  {
   "cell_type": "markdown",
   "id": "5f1bcbdc-167b-4960-bb7f-6d04cb43d5cc",
   "metadata": {},
   "source": [
    "Investigate one id that has two different vax_lots and two different vax_dose_series"
   ]
  },
  {
   "cell_type": "code",
   "execution_count": 29,
   "id": "d57f4561-a938-4caf-bd55-ab0c315b641d",
   "metadata": {},
   "outputs": [
    {
     "data": {
      "text/html": [
       "<div>\n",
       "<style scoped>\n",
       "    .dataframe tbody tr th:only-of-type {\n",
       "        vertical-align: middle;\n",
       "    }\n",
       "\n",
       "    .dataframe tbody tr th {\n",
       "        vertical-align: top;\n",
       "    }\n",
       "\n",
       "    .dataframe thead th {\n",
       "        text-align: right;\n",
       "    }\n",
       "</style>\n",
       "<table border=\"1\" class=\"dataframe\">\n",
       "  <thead>\n",
       "    <tr style=\"text-align: right;\">\n",
       "      <th></th>\n",
       "      <th>VAERS_ID</th>\n",
       "      <th>SYMPTOM1</th>\n",
       "      <th>SYMPTOMVERSION1</th>\n",
       "      <th>SYMPTOM2</th>\n",
       "      <th>SYMPTOMVERSION2</th>\n",
       "      <th>SYMPTOM3</th>\n",
       "      <th>SYMPTOMVERSION3</th>\n",
       "      <th>SYMPTOM4</th>\n",
       "      <th>SYMPTOMVERSION4</th>\n",
       "      <th>SYMPTOM5</th>\n",
       "      <th>SYMPTOMVERSION5</th>\n",
       "    </tr>\n",
       "  </thead>\n",
       "  <tbody>\n",
       "    <tr>\n",
       "      <th>7355</th>\n",
       "      <td>922631</td>\n",
       "      <td>Chills</td>\n",
       "      <td>23.1</td>\n",
       "      <td>Dizziness</td>\n",
       "      <td>23.1</td>\n",
       "      <td>Heart rate increased</td>\n",
       "      <td>23.1</td>\n",
       "      <td>Pain</td>\n",
       "      <td>23.1</td>\n",
       "      <td>Sleep disorder</td>\n",
       "      <td>23.1</td>\n",
       "    </tr>\n",
       "  </tbody>\n",
       "</table>\n",
       "</div>"
      ],
      "text/plain": [
       "     VAERS_ID SYMPTOM1  SYMPTOMVERSION1   SYMPTOM2  SYMPTOMVERSION2  \\\n",
       "7355   922631   Chills             23.1  Dizziness             23.1   \n",
       "\n",
       "                  SYMPTOM3  SYMPTOMVERSION3 SYMPTOM4  SYMPTOMVERSION4  \\\n",
       "7355  Heart rate increased             23.1     Pain             23.1   \n",
       "\n",
       "            SYMPTOM5  SYMPTOMVERSION5  \n",
       "7355  Sleep disorder             23.1  "
      ]
     },
     "execution_count": 29,
     "metadata": {},
     "output_type": "execute_result"
    }
   ],
   "source": [
    "v2021_sym[v2021_sym['VAERS_ID'] == '922631']"
   ]
  },
  {
   "cell_type": "code",
   "execution_count": 30,
   "id": "b025ee9c-d566-43bb-9d3a-8e2ba77ed67c",
   "metadata": {},
   "outputs": [
    {
     "data": {
      "text/html": [
       "<div>\n",
       "<style scoped>\n",
       "    .dataframe tbody tr th:only-of-type {\n",
       "        vertical-align: middle;\n",
       "    }\n",
       "\n",
       "    .dataframe tbody tr th {\n",
       "        vertical-align: top;\n",
       "    }\n",
       "\n",
       "    .dataframe thead th {\n",
       "        text-align: right;\n",
       "    }\n",
       "</style>\n",
       "<table border=\"1\" class=\"dataframe\">\n",
       "  <thead>\n",
       "    <tr style=\"text-align: right;\">\n",
       "      <th></th>\n",
       "      <th>VAERS_ID</th>\n",
       "      <th>RECVDATE</th>\n",
       "      <th>STATE</th>\n",
       "      <th>AGE_YRS</th>\n",
       "      <th>CAGE_YR</th>\n",
       "      <th>CAGE_MO</th>\n",
       "      <th>SEX</th>\n",
       "      <th>RPT_DATE</th>\n",
       "      <th>SYMPTOM_TEXT</th>\n",
       "      <th>DIED</th>\n",
       "      <th>...</th>\n",
       "      <th>CUR_ILL</th>\n",
       "      <th>HISTORY</th>\n",
       "      <th>PRIOR_VAX</th>\n",
       "      <th>SPLTTYPE</th>\n",
       "      <th>FORM_VERS</th>\n",
       "      <th>TODAYS_DATE</th>\n",
       "      <th>BIRTH_DEFECT</th>\n",
       "      <th>OFC_VISIT</th>\n",
       "      <th>ER_ED_VISIT</th>\n",
       "      <th>ALLERGIES</th>\n",
       "    </tr>\n",
       "  </thead>\n",
       "  <tbody>\n",
       "  </tbody>\n",
       "</table>\n",
       "<p>0 rows × 35 columns</p>\n",
       "</div>"
      ],
      "text/plain": [
       "Empty DataFrame\n",
       "Columns: [VAERS_ID, RECVDATE, STATE, AGE_YRS, CAGE_YR, CAGE_MO, SEX, RPT_DATE, SYMPTOM_TEXT, DIED, DATEDIED, L_THREAT, ER_VISIT, HOSPITAL, HOSPDAYS, X_STAY, DISABLE, RECOVD, VAX_DATE, ONSET_DATE, NUMDAYS, LAB_DATA, V_ADMINBY, V_FUNDBY, OTHER_MEDS, CUR_ILL, HISTORY, PRIOR_VAX, SPLTTYPE, FORM_VERS, TODAYS_DATE, BIRTH_DEFECT, OFC_VISIT, ER_ED_VISIT, ALLERGIES]\n",
       "Index: []\n",
       "\n",
       "[0 rows x 35 columns]"
      ]
     },
     "execution_count": 30,
     "metadata": {},
     "output_type": "execute_result"
    }
   ],
   "source": [
    "v2021_data[v2021_data['VAERS_ID'] == '922631']"
   ]
  },
  {
   "cell_type": "markdown",
   "id": "cb7fd397-a147-4bfb-86c8-d194ad78dcf3",
   "metadata": {},
   "source": [
    "It is curious that that id has two different descriptions of the vaccine but only one entry in each of the other two tables. Perhaps a case of incorrect data entry...? Check how much of the data would be lost if just removed all ids with conflicting info on vaccine given."
   ]
  },
  {
   "cell_type": "code",
   "execution_count": 31,
   "id": "9f8d8ee0-055e-49ca-832b-12aeb6ed650e",
   "metadata": {},
   "outputs": [
    {
     "data": {
      "text/plain": [
       "0.03832893990815457"
      ]
     },
     "execution_count": 31,
     "metadata": {},
     "output_type": "execute_result"
    }
   ],
   "source": [
    "conflicting_ids['VAERS_ID'].nunique()/v2021_vax['VAERS_ID'].nunique()"
   ]
  },
  {
   "cell_type": "markdown",
   "id": "59510d55-7a84-48e1-8932-35f48f67012a",
   "metadata": {},
   "source": [
    "Dropping vaccine data with conflicting row entries in the data df will only result in <4% data loss. Will do that."
   ]
  },
  {
   "cell_type": "markdown",
   "id": "26a97ca6-93df-484b-b73d-ccdb80bd08bc",
   "metadata": {},
   "source": [
    "First drop all but one row of completely duplicated rows. \n",
    "Then drop all rows with duplicated VAERS_ID but something different in other columns"
   ]
  },
  {
   "cell_type": "code",
   "execution_count": 79,
   "id": "2043589d-7500-4c17-957f-c6f5c02e1f24",
   "metadata": {},
   "outputs": [
    {
     "data": {
      "text/plain": [
       "(788354, 8)"
      ]
     },
     "execution_count": 79,
     "metadata": {},
     "output_type": "execute_result"
    }
   ],
   "source": [
    "v2021_vax_fixed = v2021_vax.copy()\n",
    "v2021_vax.shape"
   ]
  },
  {
   "cell_type": "code",
   "execution_count": 80,
   "id": "dd38fabe-1422-421b-88e0-069bd63f1763",
   "metadata": {},
   "outputs": [
    {
     "data": {
      "text/plain": [
       "(786705, 8)"
      ]
     },
     "execution_count": 80,
     "metadata": {},
     "output_type": "execute_result"
    }
   ],
   "source": [
    "v2021_vax_fixed = v2021_vax_fixed.drop_duplicates()\n",
    "v2021_vax_fixed.shape"
   ]
  },
  {
   "cell_type": "code",
   "execution_count": 81,
   "id": "2a62539d-0724-4e23-ae1b-ad1ae4e4bc25",
   "metadata": {},
   "outputs": [
    {
     "data": {
      "text/plain": [
       "(706511, 8)"
      ]
     },
     "execution_count": 81,
     "metadata": {},
     "output_type": "execute_result"
    }
   ],
   "source": [
    "v2021_vax_fixed=v2021_vax_fixed.drop_duplicates(subset = 'VAERS_ID', keep = False)\n",
    "v2021_vax_fixed.shape"
   ]
  },
  {
   "cell_type": "code",
   "execution_count": null,
   "id": "15e5ed7e-6f93-4d7d-93a8-0709cc826a65",
   "metadata": {},
   "outputs": [],
   "source": []
  }
 ],
 "metadata": {
  "kernelspec": {
   "display_name": "Python 3 (ipykernel)",
   "language": "python",
   "name": "python3"
  },
  "language_info": {
   "codemirror_mode": {
    "name": "ipython",
    "version": 3
   },
   "file_extension": ".py",
   "mimetype": "text/x-python",
   "name": "python",
   "nbconvert_exporter": "python",
   "pygments_lexer": "ipython3",
   "version": "3.10.9"
  }
 },
 "nbformat": 4,
 "nbformat_minor": 5
}
